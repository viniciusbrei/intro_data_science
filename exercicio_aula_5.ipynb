{
  "cells": [
    {
      "cell_type": "markdown",
      "metadata": {
        "id": "view-in-github",
        "colab_type": "text"
      },
      "source": [
        "<a href=\"https://colab.research.google.com/github/viniciusbrei/intro_data_science/blob/Code/exercicio_aula_5.ipynb\" target=\"_parent\"><img src=\"https://colab.research.google.com/assets/colab-badge.svg\" alt=\"Open In Colab\"/></a>"
      ]
    },
    {
      "cell_type": "markdown",
      "source": [
        "Exercício Aula 5\n",
        "\n",
        "\n",
        "https://github.com/PacktPublishing/Hands-On-Data-Science-for-Marketing/blob/master/Chapter12/python/ABTesting.ipynb"
      ],
      "metadata": {
        "id": "8Da3fn8_UjrN"
      }
    },
    {
      "cell_type": "code",
      "execution_count": 1,
      "metadata": {
        "id": "svxyXbh9UPyd"
      },
      "outputs": [],
      "source": [
        "%matplotlib inline"
      ]
    },
    {
      "cell_type": "code",
      "execution_count": 2,
      "metadata": {
        "id": "Q3teuTFeUPyf",
        "colab": {
          "base_uri": "https://localhost:8080/"
        },
        "outputId": "8cde7d63-88bf-4b1a-a054-43017b5bb36d"
      },
      "outputs": [
        {
          "output_type": "stream",
          "name": "stdout",
          "text": [
            "Looking in indexes: https://pypi.org/simple, https://us-python.pkg.dev/colab-wheels/public/simple/\n",
            "Collecting researchpy\n",
            "  Downloading researchpy-0.3.5-py3-none-any.whl (33 kB)\n",
            "Requirement already satisfied: statsmodels in /usr/local/lib/python3.8/dist-packages (from researchpy) (0.12.2)\n",
            "Requirement already satisfied: numpy in /usr/local/lib/python3.8/dist-packages (from researchpy) (1.21.6)\n",
            "Requirement already satisfied: patsy in /usr/local/lib/python3.8/dist-packages (from researchpy) (0.5.3)\n",
            "Requirement already satisfied: pandas in /usr/local/lib/python3.8/dist-packages (from researchpy) (1.3.5)\n",
            "Requirement already satisfied: scipy in /usr/local/lib/python3.8/dist-packages (from researchpy) (1.7.3)\n",
            "Requirement already satisfied: python-dateutil>=2.7.3 in /usr/local/lib/python3.8/dist-packages (from pandas->researchpy) (2.8.2)\n",
            "Requirement already satisfied: pytz>=2017.3 in /usr/local/lib/python3.8/dist-packages (from pandas->researchpy) (2022.6)\n",
            "Requirement already satisfied: six>=1.5 in /usr/local/lib/python3.8/dist-packages (from python-dateutil>=2.7.3->pandas->researchpy) (1.15.0)\n",
            "Installing collected packages: researchpy\n",
            "Successfully installed researchpy-0.3.5\n"
          ]
        }
      ],
      "source": [
        "import matplotlib.pyplot as plt\n",
        "import pandas as pd\n",
        "!pip install researchpy\n",
        "import researchpy as rp\n",
        "import scipy.stats as stats\n",
        "pd.options.display.float_format = '{:.2f}'.format\n",
        "from IPython.core.interactiveshell import InteractiveShell\n",
        "InteractiveShell.ast_node_interactivity = \"all\""
      ]
    },
    {
      "cell_type": "markdown",
      "metadata": {
        "id": "F3MrbLcpUPyg"
      },
      "source": [
        "# 1. Load Data"
      ]
    },
    {
      "cell_type": "code",
      "source": [
        "df = pd.read_csv('https://raw.githubusercontent.com/pthiagu2/DataMining/master/WA_Fn-UseC_-Marketing-Campaign-Eff-UseC_-FastF.csv', sep=',')"
      ],
      "metadata": {
        "id": "3f2OUh1WkSCq"
      },
      "execution_count": 3,
      "outputs": []
    },
    {
      "cell_type": "code",
      "execution_count": 4,
      "metadata": {
        "id": "hM2Yui56UPyh",
        "colab": {
          "base_uri": "https://localhost:8080/"
        },
        "outputId": "bb904904-35c0-43b7-d394-943ac868cbf4"
      },
      "outputs": [
        {
          "output_type": "execute_result",
          "data": {
            "text/plain": [
              "(548, 7)"
            ]
          },
          "metadata": {},
          "execution_count": 4
        }
      ],
      "source": [
        "df.shape"
      ]
    },
    {
      "cell_type": "code",
      "execution_count": 5,
      "metadata": {
        "id": "gXWO_ywmUPyj",
        "colab": {
          "base_uri": "https://localhost:8080/",
          "height": 520
        },
        "outputId": "9334901a-d94d-42f5-fc39-d6d6c7a3cbc7"
      },
      "outputs": [
        {
          "output_type": "execute_result",
          "data": {
            "text/plain": [
              "    MarketID MarketSize  LocationID  AgeOfStore  Promotion  week  \\\n",
              "0          1     Medium           1           4          3     1   \n",
              "1          1     Medium           1           4          3     2   \n",
              "2          1     Medium           1           4          3     3   \n",
              "3          1     Medium           1           4          3     4   \n",
              "4          1     Medium           2           5          2     1   \n",
              "5          1     Medium           2           5          2     2   \n",
              "6          1     Medium           2           5          2     3   \n",
              "7          1     Medium           2           5          2     4   \n",
              "8          1     Medium           3          12          1     1   \n",
              "9          1     Medium           3          12          1     2   \n",
              "10         1     Medium           3          12          1     3   \n",
              "11         1     Medium           3          12          1     4   \n",
              "12         1     Medium           4           1          2     1   \n",
              "13         1     Medium           4           1          2     2   \n",
              "14         1     Medium           4           1          2     3   \n",
              "\n",
              "    SalesInThousands  \n",
              "0              33.73  \n",
              "1              35.67  \n",
              "2              29.03  \n",
              "3              39.25  \n",
              "4              27.81  \n",
              "5              34.67  \n",
              "6              27.98  \n",
              "7              27.72  \n",
              "8              44.54  \n",
              "9              37.94  \n",
              "10             45.49  \n",
              "11             34.75  \n",
              "12             39.28  \n",
              "13             39.80  \n",
              "14             24.77  "
            ],
            "text/html": [
              "\n",
              "  <div id=\"df-c1abd827-b33f-4c88-afee-25850832e81f\">\n",
              "    <div class=\"colab-df-container\">\n",
              "      <div>\n",
              "<style scoped>\n",
              "    .dataframe tbody tr th:only-of-type {\n",
              "        vertical-align: middle;\n",
              "    }\n",
              "\n",
              "    .dataframe tbody tr th {\n",
              "        vertical-align: top;\n",
              "    }\n",
              "\n",
              "    .dataframe thead th {\n",
              "        text-align: right;\n",
              "    }\n",
              "</style>\n",
              "<table border=\"1\" class=\"dataframe\">\n",
              "  <thead>\n",
              "    <tr style=\"text-align: right;\">\n",
              "      <th></th>\n",
              "      <th>MarketID</th>\n",
              "      <th>MarketSize</th>\n",
              "      <th>LocationID</th>\n",
              "      <th>AgeOfStore</th>\n",
              "      <th>Promotion</th>\n",
              "      <th>week</th>\n",
              "      <th>SalesInThousands</th>\n",
              "    </tr>\n",
              "  </thead>\n",
              "  <tbody>\n",
              "    <tr>\n",
              "      <th>0</th>\n",
              "      <td>1</td>\n",
              "      <td>Medium</td>\n",
              "      <td>1</td>\n",
              "      <td>4</td>\n",
              "      <td>3</td>\n",
              "      <td>1</td>\n",
              "      <td>33.73</td>\n",
              "    </tr>\n",
              "    <tr>\n",
              "      <th>1</th>\n",
              "      <td>1</td>\n",
              "      <td>Medium</td>\n",
              "      <td>1</td>\n",
              "      <td>4</td>\n",
              "      <td>3</td>\n",
              "      <td>2</td>\n",
              "      <td>35.67</td>\n",
              "    </tr>\n",
              "    <tr>\n",
              "      <th>2</th>\n",
              "      <td>1</td>\n",
              "      <td>Medium</td>\n",
              "      <td>1</td>\n",
              "      <td>4</td>\n",
              "      <td>3</td>\n",
              "      <td>3</td>\n",
              "      <td>29.03</td>\n",
              "    </tr>\n",
              "    <tr>\n",
              "      <th>3</th>\n",
              "      <td>1</td>\n",
              "      <td>Medium</td>\n",
              "      <td>1</td>\n",
              "      <td>4</td>\n",
              "      <td>3</td>\n",
              "      <td>4</td>\n",
              "      <td>39.25</td>\n",
              "    </tr>\n",
              "    <tr>\n",
              "      <th>4</th>\n",
              "      <td>1</td>\n",
              "      <td>Medium</td>\n",
              "      <td>2</td>\n",
              "      <td>5</td>\n",
              "      <td>2</td>\n",
              "      <td>1</td>\n",
              "      <td>27.81</td>\n",
              "    </tr>\n",
              "    <tr>\n",
              "      <th>5</th>\n",
              "      <td>1</td>\n",
              "      <td>Medium</td>\n",
              "      <td>2</td>\n",
              "      <td>5</td>\n",
              "      <td>2</td>\n",
              "      <td>2</td>\n",
              "      <td>34.67</td>\n",
              "    </tr>\n",
              "    <tr>\n",
              "      <th>6</th>\n",
              "      <td>1</td>\n",
              "      <td>Medium</td>\n",
              "      <td>2</td>\n",
              "      <td>5</td>\n",
              "      <td>2</td>\n",
              "      <td>3</td>\n",
              "      <td>27.98</td>\n",
              "    </tr>\n",
              "    <tr>\n",
              "      <th>7</th>\n",
              "      <td>1</td>\n",
              "      <td>Medium</td>\n",
              "      <td>2</td>\n",
              "      <td>5</td>\n",
              "      <td>2</td>\n",
              "      <td>4</td>\n",
              "      <td>27.72</td>\n",
              "    </tr>\n",
              "    <tr>\n",
              "      <th>8</th>\n",
              "      <td>1</td>\n",
              "      <td>Medium</td>\n",
              "      <td>3</td>\n",
              "      <td>12</td>\n",
              "      <td>1</td>\n",
              "      <td>1</td>\n",
              "      <td>44.54</td>\n",
              "    </tr>\n",
              "    <tr>\n",
              "      <th>9</th>\n",
              "      <td>1</td>\n",
              "      <td>Medium</td>\n",
              "      <td>3</td>\n",
              "      <td>12</td>\n",
              "      <td>1</td>\n",
              "      <td>2</td>\n",
              "      <td>37.94</td>\n",
              "    </tr>\n",
              "    <tr>\n",
              "      <th>10</th>\n",
              "      <td>1</td>\n",
              "      <td>Medium</td>\n",
              "      <td>3</td>\n",
              "      <td>12</td>\n",
              "      <td>1</td>\n",
              "      <td>3</td>\n",
              "      <td>45.49</td>\n",
              "    </tr>\n",
              "    <tr>\n",
              "      <th>11</th>\n",
              "      <td>1</td>\n",
              "      <td>Medium</td>\n",
              "      <td>3</td>\n",
              "      <td>12</td>\n",
              "      <td>1</td>\n",
              "      <td>4</td>\n",
              "      <td>34.75</td>\n",
              "    </tr>\n",
              "    <tr>\n",
              "      <th>12</th>\n",
              "      <td>1</td>\n",
              "      <td>Medium</td>\n",
              "      <td>4</td>\n",
              "      <td>1</td>\n",
              "      <td>2</td>\n",
              "      <td>1</td>\n",
              "      <td>39.28</td>\n",
              "    </tr>\n",
              "    <tr>\n",
              "      <th>13</th>\n",
              "      <td>1</td>\n",
              "      <td>Medium</td>\n",
              "      <td>4</td>\n",
              "      <td>1</td>\n",
              "      <td>2</td>\n",
              "      <td>2</td>\n",
              "      <td>39.80</td>\n",
              "    </tr>\n",
              "    <tr>\n",
              "      <th>14</th>\n",
              "      <td>1</td>\n",
              "      <td>Medium</td>\n",
              "      <td>4</td>\n",
              "      <td>1</td>\n",
              "      <td>2</td>\n",
              "      <td>3</td>\n",
              "      <td>24.77</td>\n",
              "    </tr>\n",
              "  </tbody>\n",
              "</table>\n",
              "</div>\n",
              "      <button class=\"colab-df-convert\" onclick=\"convertToInteractive('df-c1abd827-b33f-4c88-afee-25850832e81f')\"\n",
              "              title=\"Convert this dataframe to an interactive table.\"\n",
              "              style=\"display:none;\">\n",
              "        \n",
              "  <svg xmlns=\"http://www.w3.org/2000/svg\" height=\"24px\"viewBox=\"0 0 24 24\"\n",
              "       width=\"24px\">\n",
              "    <path d=\"M0 0h24v24H0V0z\" fill=\"none\"/>\n",
              "    <path d=\"M18.56 5.44l.94 2.06.94-2.06 2.06-.94-2.06-.94-.94-2.06-.94 2.06-2.06.94zm-11 1L8.5 8.5l.94-2.06 2.06-.94-2.06-.94L8.5 2.5l-.94 2.06-2.06.94zm10 10l.94 2.06.94-2.06 2.06-.94-2.06-.94-.94-2.06-.94 2.06-2.06.94z\"/><path d=\"M17.41 7.96l-1.37-1.37c-.4-.4-.92-.59-1.43-.59-.52 0-1.04.2-1.43.59L10.3 9.45l-7.72 7.72c-.78.78-.78 2.05 0 2.83L4 21.41c.39.39.9.59 1.41.59.51 0 1.02-.2 1.41-.59l7.78-7.78 2.81-2.81c.8-.78.8-2.07 0-2.86zM5.41 20L4 18.59l7.72-7.72 1.47 1.35L5.41 20z\"/>\n",
              "  </svg>\n",
              "      </button>\n",
              "      \n",
              "  <style>\n",
              "    .colab-df-container {\n",
              "      display:flex;\n",
              "      flex-wrap:wrap;\n",
              "      gap: 12px;\n",
              "    }\n",
              "\n",
              "    .colab-df-convert {\n",
              "      background-color: #E8F0FE;\n",
              "      border: none;\n",
              "      border-radius: 50%;\n",
              "      cursor: pointer;\n",
              "      display: none;\n",
              "      fill: #1967D2;\n",
              "      height: 32px;\n",
              "      padding: 0 0 0 0;\n",
              "      width: 32px;\n",
              "    }\n",
              "\n",
              "    .colab-df-convert:hover {\n",
              "      background-color: #E2EBFA;\n",
              "      box-shadow: 0px 1px 2px rgba(60, 64, 67, 0.3), 0px 1px 3px 1px rgba(60, 64, 67, 0.15);\n",
              "      fill: #174EA6;\n",
              "    }\n",
              "\n",
              "    [theme=dark] .colab-df-convert {\n",
              "      background-color: #3B4455;\n",
              "      fill: #D2E3FC;\n",
              "    }\n",
              "\n",
              "    [theme=dark] .colab-df-convert:hover {\n",
              "      background-color: #434B5C;\n",
              "      box-shadow: 0px 1px 3px 1px rgba(0, 0, 0, 0.15);\n",
              "      filter: drop-shadow(0px 1px 2px rgba(0, 0, 0, 0.3));\n",
              "      fill: #FFFFFF;\n",
              "    }\n",
              "  </style>\n",
              "\n",
              "      <script>\n",
              "        const buttonEl =\n",
              "          document.querySelector('#df-c1abd827-b33f-4c88-afee-25850832e81f button.colab-df-convert');\n",
              "        buttonEl.style.display =\n",
              "          google.colab.kernel.accessAllowed ? 'block' : 'none';\n",
              "\n",
              "        async function convertToInteractive(key) {\n",
              "          const element = document.querySelector('#df-c1abd827-b33f-4c88-afee-25850832e81f');\n",
              "          const dataTable =\n",
              "            await google.colab.kernel.invokeFunction('convertToInteractive',\n",
              "                                                     [key], {});\n",
              "          if (!dataTable) return;\n",
              "\n",
              "          const docLinkHtml = 'Like what you see? Visit the ' +\n",
              "            '<a target=\"_blank\" href=https://colab.research.google.com/notebooks/data_table.ipynb>data table notebook</a>'\n",
              "            + ' to learn more about interactive tables.';\n",
              "          element.innerHTML = '';\n",
              "          dataTable['output_type'] = 'display_data';\n",
              "          await google.colab.output.renderOutput(dataTable, element);\n",
              "          const docLink = document.createElement('div');\n",
              "          docLink.innerHTML = docLinkHtml;\n",
              "          element.appendChild(docLink);\n",
              "        }\n",
              "      </script>\n",
              "    </div>\n",
              "  </div>\n",
              "  "
            ]
          },
          "metadata": {},
          "execution_count": 5
        }
      ],
      "source": [
        "df.head(15)"
      ]
    },
    {
      "cell_type": "markdown",
      "metadata": {
        "id": "EwfTtu4CUPyj"
      },
      "source": [
        "# 2. Data Analysis"
      ]
    },
    {
      "cell_type": "markdown",
      "metadata": {
        "id": "UQdFuXl7UPyj"
      },
      "source": [
        "#### - Total Sales"
      ]
    },
    {
      "cell_type": "code",
      "execution_count": 6,
      "metadata": {
        "id": "OkijnYEKUPyk",
        "colab": {
          "base_uri": "https://localhost:8080/"
        },
        "outputId": "2d9650ad-3b08-420d-f3b2-00155ac0625b"
      },
      "outputs": [
        {
          "output_type": "execute_result",
          "data": {
            "text/plain": [
              "count   548.00\n",
              "mean     53.47\n",
              "std      16.76\n",
              "min      17.34\n",
              "25%      42.55\n",
              "50%      50.20\n",
              "75%      60.48\n",
              "max      99.65\n",
              "Name: SalesInThousands, dtype: float64"
            ]
          },
          "metadata": {},
          "execution_count": 6
        }
      ],
      "source": [
        "df['SalesInThousands'].describe()"
      ]
    },
    {
      "cell_type": "code",
      "execution_count": 7,
      "metadata": {
        "id": "-5QBHojDUPyk",
        "colab": {
          "base_uri": "https://localhost:8080/",
          "height": 444
        },
        "outputId": "0f378f59-0612-432d-fa34-b1a32a21cb62"
      },
      "outputs": [
        {
          "output_type": "execute_result",
          "data": {
            "text/plain": [
              "Text(0, 0.5, '')"
            ]
          },
          "metadata": {},
          "execution_count": 7
        },
        {
          "output_type": "execute_result",
          "data": {
            "text/plain": [
              "Text(0.5, 1.0, 'sales distribution across different promotions')"
            ]
          },
          "metadata": {},
          "execution_count": 7
        },
        {
          "output_type": "display_data",
          "data": {
            "text/plain": [
              "<Figure size 504x504 with 1 Axes>"
            ],
            "image/png": "[encoded data removed]"
          },
          "metadata": {}
        }
      ],
      "source": [
        "ax = df.groupby(\n",
        "    'Promotion'\n",
        ").sum()[\n",
        "    'SalesInThousands'\n",
        "].plot.pie(\n",
        "    figsize=(7, 7),\n",
        "    autopct='%1.0f%%'\n",
        ")\n",
        "\n",
        "ax.set_ylabel('')\n",
        "ax.set_title('sales distribution across different promotions')\n",
        "\n",
        "plt.show()"
      ]
    },
    {
      "cell_type": "markdown",
      "metadata": {
        "id": "1CiWLAJ7UPyl"
      },
      "source": [
        "#### - Market Size"
      ]
    },
    {
      "cell_type": "code",
      "execution_count": 8,
      "metadata": {
        "id": "9go6utO4UPyl",
        "colab": {
          "base_uri": "https://localhost:8080/"
        },
        "outputId": "3b299cac-ef61-4a8b-f44e-587a8e039dab"
      },
      "outputs": [
        {
          "output_type": "execute_result",
          "data": {
            "text/plain": [
              "MarketSize\n",
              "Large     168\n",
              "Medium    320\n",
              "Small      60\n",
              "Name: MarketID, dtype: int64"
            ]
          },
          "metadata": {},
          "execution_count": 8
        }
      ],
      "source": [
        "df.groupby('MarketSize').count()['MarketID']"
      ]
    },
    {
      "cell_type": "code",
      "execution_count": 9,
      "metadata": {
        "id": "D6Y0XHxRUPyl",
        "colab": {
          "base_uri": "https://localhost:8080/",
          "height": 635
        },
        "outputId": "6c649018-8aec-44a6-a0f0-748e86f8e3df"
      },
      "outputs": [
        {
          "output_type": "execute_result",
          "data": {
            "text/plain": [
              "Text(0, 0.5, 'count')"
            ]
          },
          "metadata": {},
          "execution_count": 9
        },
        {
          "output_type": "execute_result",
          "data": {
            "text/plain": [
              "Text(0.5, 1.0, 'breakdowns of market sizes across different promotions')"
            ]
          },
          "metadata": {},
          "execution_count": 9
        },
        {
          "output_type": "display_data",
          "data": {
            "text/plain": [
              "<Figure size 864x720 with 1 Axes>"
            ],
            "image/png": "[encoded data removed]"
          },
          "metadata": {
            "needs_background": "light"
          }
        }
      ],
      "source": [
        "ax = df.groupby([\n",
        "    'Promotion', 'MarketSize'\n",
        "]).count()[\n",
        "    'MarketID'\n",
        "].unstack(\n",
        "    'MarketSize'\n",
        ").plot(\n",
        "    kind='bar',\n",
        "    figsize=(12,10),\n",
        "    grid=True,\n",
        ")\n",
        "\n",
        "ax.set_ylabel('count')\n",
        "ax.set_title('breakdowns of market sizes across different promotions')\n",
        "\n",
        "plt.show()"
      ]
    },
    {
      "cell_type": "code",
      "execution_count": 10,
      "metadata": {
        "id": "9sKJ6JmRUPym",
        "colab": {
          "base_uri": "https://localhost:8080/",
          "height": 635
        },
        "outputId": "bd2e38a3-7980-4f65-a008-be04dbaceaac"
      },
      "outputs": [
        {
          "output_type": "execute_result",
          "data": {
            "text/plain": [
              "Text(0, 0.5, 'Sales (in Thousands)')"
            ]
          },
          "metadata": {},
          "execution_count": 10
        },
        {
          "output_type": "execute_result",
          "data": {
            "text/plain": [
              "Text(0.5, 1.0, 'breakdowns of market sizes across different promotions')"
            ]
          },
          "metadata": {},
          "execution_count": 10
        },
        {
          "output_type": "display_data",
          "data": {
            "text/plain": [
              "<Figure size 864x720 with 1 Axes>"
            ],
            "image/png": "[encoded data removed]"
          },
          "metadata": {
            "needs_background": "light"
          }
        }
      ],
      "source": [
        "ax = df.groupby([\n",
        "    'Promotion', 'MarketSize'\n",
        "]).sum()[\n",
        "    'SalesInThousands'\n",
        "].unstack(\n",
        "    'MarketSize'\n",
        ").plot(\n",
        "    kind='bar',\n",
        "    figsize=(12,10),\n",
        "    grid=True,\n",
        "    stacked=True\n",
        ")\n",
        "\n",
        "ax.set_ylabel('Sales (in Thousands)')\n",
        "ax.set_title('breakdowns of market sizes across different promotions')\n",
        "\n",
        "plt.show()"
      ]
    },
    {
      "cell_type": "markdown",
      "metadata": {
        "id": "X0_ysHKdUPym"
      },
      "source": [
        "#### - Store Age"
      ]
    },
    {
      "cell_type": "code",
      "execution_count": 11,
      "metadata": {
        "id": "Du6vkjj2UPym",
        "colab": {
          "base_uri": "https://localhost:8080/"
        },
        "outputId": "2d4a6644-7ae1-400f-8d7e-225d2f387063"
      },
      "outputs": [
        {
          "output_type": "execute_result",
          "data": {
            "text/plain": [
              "count   548.00\n",
              "mean      8.50\n",
              "std       6.64\n",
              "min       1.00\n",
              "25%       4.00\n",
              "50%       7.00\n",
              "75%      12.00\n",
              "max      28.00\n",
              "Name: AgeOfStore, dtype: float64"
            ]
          },
          "metadata": {},
          "execution_count": 11
        }
      ],
      "source": [
        "df['AgeOfStore'].describe()"
      ]
    },
    {
      "cell_type": "code",
      "execution_count": 12,
      "metadata": {
        "id": "aG51A2JlUPym",
        "colab": {
          "base_uri": "https://localhost:8080/",
          "height": 478
        },
        "outputId": "ddb4195e-5986-44c1-cbfb-76043e338148"
      },
      "outputs": [
        {
          "output_type": "execute_result",
          "data": {
            "text/plain": [
              "Text(0.5, 0, 'age')"
            ]
          },
          "metadata": {},
          "execution_count": 12
        },
        {
          "output_type": "execute_result",
          "data": {
            "text/plain": [
              "Text(0, 0.5, 'count')"
            ]
          },
          "metadata": {},
          "execution_count": 12
        },
        {
          "output_type": "execute_result",
          "data": {
            "text/plain": [
              "Text(0.5, 1.0, 'overall distributions of age of store')"
            ]
          },
          "metadata": {},
          "execution_count": 12
        },
        {
          "output_type": "display_data",
          "data": {
            "text/plain": [
              "<Figure size 720x504 with 1 Axes>"
            ],
            "image/png": "[encoded data removed]"
          },
          "metadata": {
            "needs_background": "light"
          }
        }
      ],
      "source": [
        "ax = df.groupby(\n",
        "    'AgeOfStore'\n",
        ").count()[\n",
        "    'MarketID'\n",
        "].plot(\n",
        "    kind='bar', \n",
        "    color='skyblue',\n",
        "    figsize=(10,7),\n",
        "    grid=True\n",
        ")\n",
        "\n",
        "ax.set_xlabel('age')\n",
        "ax.set_ylabel('count')\n",
        "ax.set_title('overall distributions of age of store')\n",
        "\n",
        "plt.show()"
      ]
    },
    {
      "cell_type": "code",
      "execution_count": 13,
      "metadata": {
        "id": "VqG0BHGqUPyn",
        "colab": {
          "base_uri": "https://localhost:8080/",
          "height": 910
        },
        "outputId": "c073fd79-4f62-4646-8df8-fe71dff6ba70"
      },
      "outputs": [
        {
          "output_type": "execute_result",
          "data": {
            "text/plain": [
              "Text(0, 0.5, 'age')"
            ]
          },
          "metadata": {},
          "execution_count": 13
        },
        {
          "output_type": "execute_result",
          "data": {
            "text/plain": [
              "Text(0.5, 0, 'count')"
            ]
          },
          "metadata": {},
          "execution_count": 13
        },
        {
          "output_type": "execute_result",
          "data": {
            "text/plain": [
              "Text(0.5, 1.0, 'overall distributions of age of store')"
            ]
          },
          "metadata": {},
          "execution_count": 13
        },
        {
          "output_type": "display_data",
          "data": {
            "text/plain": [
              "<Figure size 864x1080 with 1 Axes>"
            ],
            "image/png": "[encoded data removed]"
          },
          "metadata": {
            "needs_background": "light"
          }
        }
      ],
      "source": [
        "ax = df.groupby(\n",
        "    ['AgeOfStore', 'Promotion']\n",
        ").count()[\n",
        "    'MarketID'\n",
        "].unstack(\n",
        "    'Promotion'\n",
        ").iloc[::-1].plot(\n",
        "    kind='barh', \n",
        "    figsize=(12,15),\n",
        "    grid=True\n",
        ")\n",
        "\n",
        "ax.set_ylabel('age')\n",
        "ax.set_xlabel('count')\n",
        "ax.set_title('overall distributions of age of store')\n",
        "\n",
        "plt.show()"
      ]
    },
    {
      "cell_type": "code",
      "execution_count": 14,
      "metadata": {
        "id": "piuuyuGfUPyn",
        "colab": {
          "base_uri": "https://localhost:8080/",
          "height": 175
        },
        "outputId": "a753d0d8-8a4c-4f8b-9ffa-a72d6ab54aff"
      },
      "outputs": [
        {
          "output_type": "execute_result",
          "data": {
            "text/plain": [
              "           count  mean  std  min  25%  50%   75%   max\n",
              "Promotion                                             \n",
              "1         172.00  8.28 6.64 1.00 3.00 6.00 12.00 27.00\n",
              "2         188.00  7.98 6.60 1.00 3.00 7.00 10.00 28.00\n",
              "3         188.00  9.23 6.65 1.00 5.00 8.00 12.00 24.00"
            ],
            "text/html": [
              "\n",
              "  <div id=\"df-ade6cfe8-94ac-4c8b-b13f-7b411e7665b2\">\n",
              "    <div class=\"colab-df-container\">\n",
              "      <div>\n",
              "<style scoped>\n",
              "    .dataframe tbody tr th:only-of-type {\n",
              "        vertical-align: middle;\n",
              "    }\n",
              "\n",
              "    .dataframe tbody tr th {\n",
              "        vertical-align: top;\n",
              "    }\n",
              "\n",
              "    .dataframe thead th {\n",
              "        text-align: right;\n",
              "    }\n",
              "</style>\n",
              "<table border=\"1\" class=\"dataframe\">\n",
              "  <thead>\n",
              "    <tr style=\"text-align: right;\">\n",
              "      <th></th>\n",
              "      <th>count</th>\n",
              "      <th>mean</th>\n",
              "      <th>std</th>\n",
              "      <th>min</th>\n",
              "      <th>25%</th>\n",
              "      <th>50%</th>\n",
              "      <th>75%</th>\n",
              "      <th>max</th>\n",
              "    </tr>\n",
              "    <tr>\n",
              "      <th>Promotion</th>\n",
              "      <th></th>\n",
              "      <th></th>\n",
              "      <th></th>\n",
              "      <th></th>\n",
              "      <th></th>\n",
              "      <th></th>\n",
              "      <th></th>\n",
              "      <th></th>\n",
              "    </tr>\n",
              "  </thead>\n",
              "  <tbody>\n",
              "    <tr>\n",
              "      <th>1</th>\n",
              "      <td>172.00</td>\n",
              "      <td>8.28</td>\n",
              "      <td>6.64</td>\n",
              "      <td>1.00</td>\n",
              "      <td>3.00</td>\n",
              "      <td>6.00</td>\n",
              "      <td>12.00</td>\n",
              "      <td>27.00</td>\n",
              "    </tr>\n",
              "    <tr>\n",
              "      <th>2</th>\n",
              "      <td>188.00</td>\n",
              "      <td>7.98</td>\n",
              "      <td>6.60</td>\n",
              "      <td>1.00</td>\n",
              "      <td>3.00</td>\n",
              "      <td>7.00</td>\n",
              "      <td>10.00</td>\n",
              "      <td>28.00</td>\n",
              "    </tr>\n",
              "    <tr>\n",
              "      <th>3</th>\n",
              "      <td>188.00</td>\n",
              "      <td>9.23</td>\n",
              "      <td>6.65</td>\n",
              "      <td>1.00</td>\n",
              "      <td>5.00</td>\n",
              "      <td>8.00</td>\n",
              "      <td>12.00</td>\n",
              "      <td>24.00</td>\n",
              "    </tr>\n",
              "  </tbody>\n",
              "</table>\n",
              "</div>\n",
              "      <button class=\"colab-df-convert\" onclick=\"convertToInteractive('df-ade6cfe8-94ac-4c8b-b13f-7b411e7665b2')\"\n",
              "              title=\"Convert this dataframe to an interactive table.\"\n",
              "              style=\"display:none;\">\n",
              "        \n",
              "  <svg xmlns=\"http://www.w3.org/2000/svg\" height=\"24px\"viewBox=\"0 0 24 24\"\n",
              "       width=\"24px\">\n",
              "    <path d=\"M0 0h24v24H0V0z\" fill=\"none\"/>\n",
              "    <path d=\"M18.56 5.44l.94 2.06.94-2.06 2.06-.94-2.06-.94-.94-2.06-.94 2.06-2.06.94zm-11 1L8.5 8.5l.94-2.06 2.06-.94-2.06-.94L8.5 2.5l-.94 2.06-2.06.94zm10 10l.94 2.06.94-2.06 2.06-.94-2.06-.94-.94-2.06-.94 2.06-2.06.94z\"/><path d=\"M17.41 7.96l-1.37-1.37c-.4-.4-.92-.59-1.43-.59-.52 0-1.04.2-1.43.59L10.3 9.45l-7.72 7.72c-.78.78-.78 2.05 0 2.83L4 21.41c.39.39.9.59 1.41.59.51 0 1.02-.2 1.41-.59l7.78-7.78 2.81-2.81c.8-.78.8-2.07 0-2.86zM5.41 20L4 18.59l7.72-7.72 1.47 1.35L5.41 20z\"/>\n",
              "  </svg>\n",
              "      </button>\n",
              "      \n",
              "  <style>\n",
              "    .colab-df-container {\n",
              "      display:flex;\n",
              "      flex-wrap:wrap;\n",
              "      gap: 12px;\n",
              "    }\n",
              "\n",
              "    .colab-df-convert {\n",
              "      background-color: #E8F0FE;\n",
              "      border: none;\n",
              "      border-radius: 50%;\n",
              "      cursor: pointer;\n",
              "      display: none;\n",
              "      fill: #1967D2;\n",
              "      height: 32px;\n",
              "      padding: 0 0 0 0;\n",
              "      width: 32px;\n",
              "    }\n",
              "\n",
              "    .colab-df-convert:hover {\n",
              "      background-color: #E2EBFA;\n",
              "      box-shadow: 0px 1px 2px rgba(60, 64, 67, 0.3), 0px 1px 3px 1px rgba(60, 64, 67, 0.15);\n",
              "      fill: #174EA6;\n",
              "    }\n",
              "\n",
              "    [theme=dark] .colab-df-convert {\n",
              "      background-color: #3B4455;\n",
              "      fill: #D2E3FC;\n",
              "    }\n",
              "\n",
              "    [theme=dark] .colab-df-convert:hover {\n",
              "      background-color: #434B5C;\n",
              "      box-shadow: 0px 1px 3px 1px rgba(0, 0, 0, 0.15);\n",
              "      filter: drop-shadow(0px 1px 2px rgba(0, 0, 0, 0.3));\n",
              "      fill: #FFFFFF;\n",
              "    }\n",
              "  </style>\n",
              "\n",
              "      <script>\n",
              "        const buttonEl =\n",
              "          document.querySelector('#df-ade6cfe8-94ac-4c8b-b13f-7b411e7665b2 button.colab-df-convert');\n",
              "        buttonEl.style.display =\n",
              "          google.colab.kernel.accessAllowed ? 'block' : 'none';\n",
              "\n",
              "        async function convertToInteractive(key) {\n",
              "          const element = document.querySelector('#df-ade6cfe8-94ac-4c8b-b13f-7b411e7665b2');\n",
              "          const dataTable =\n",
              "            await google.colab.kernel.invokeFunction('convertToInteractive',\n",
              "                                                     [key], {});\n",
              "          if (!dataTable) return;\n",
              "\n",
              "          const docLinkHtml = 'Like what you see? Visit the ' +\n",
              "            '<a target=\"_blank\" href=https://colab.research.google.com/notebooks/data_table.ipynb>data table notebook</a>'\n",
              "            + ' to learn more about interactive tables.';\n",
              "          element.innerHTML = '';\n",
              "          dataTable['output_type'] = 'display_data';\n",
              "          await google.colab.output.renderOutput(dataTable, element);\n",
              "          const docLink = document.createElement('div');\n",
              "          docLink.innerHTML = docLinkHtml;\n",
              "          element.appendChild(docLink);\n",
              "        }\n",
              "      </script>\n",
              "    </div>\n",
              "  </div>\n",
              "  "
            ]
          },
          "metadata": {},
          "execution_count": 14
        }
      ],
      "source": [
        "df.groupby('Promotion').describe()['AgeOfStore']"
      ]
    },
    {
      "cell_type": "markdown",
      "metadata": {
        "id": "PY0bQTwGUPyn"
      },
      "source": [
        "#### - Week Number"
      ]
    },
    {
      "cell_type": "code",
      "execution_count": 15,
      "metadata": {
        "id": "7gOpSlQ8UPyn",
        "colab": {
          "base_uri": "https://localhost:8080/"
        },
        "outputId": "68a37adc-420d-4f12-fbe7-b12c0cf82107"
      },
      "outputs": [
        {
          "output_type": "execute_result",
          "data": {
            "text/plain": [
              "week\n",
              "1    137\n",
              "2    137\n",
              "3    137\n",
              "4    137\n",
              "Name: MarketID, dtype: int64"
            ]
          },
          "metadata": {},
          "execution_count": 15
        }
      ],
      "source": [
        "df.groupby('week').count()['MarketID']"
      ]
    },
    {
      "cell_type": "code",
      "execution_count": 16,
      "metadata": {
        "id": "9mz1jWJzUPyn",
        "colab": {
          "base_uri": "https://localhost:8080/"
        },
        "outputId": "ebb3507d-e0d5-4439-93c5-4a466a8cef24"
      },
      "outputs": [
        {
          "output_type": "execute_result",
          "data": {
            "text/plain": [
              "Promotion  week\n",
              "1          1       43\n",
              "           2       43\n",
              "           3       43\n",
              "           4       43\n",
              "2          1       47\n",
              "           2       47\n",
              "           3       47\n",
              "           4       47\n",
              "3          1       47\n",
              "           2       47\n",
              "           3       47\n",
              "           4       47\n",
              "Name: MarketID, dtype: int64"
            ]
          },
          "metadata": {},
          "execution_count": 16
        }
      ],
      "source": [
        "df.groupby(['Promotion', 'week']).count()['MarketID']"
      ]
    },
    {
      "cell_type": "code",
      "execution_count": 17,
      "metadata": {
        "id": "izBdTF1NUPyo",
        "colab": {
          "base_uri": "https://localhost:8080/",
          "height": 436
        },
        "outputId": "bdb1519c-051a-4b87-ebce-d384c8137165"
      },
      "outputs": [
        {
          "output_type": "execute_result",
          "data": {
            "text/plain": [
              "Text(0, 0.5, 'Promotion #1')"
            ]
          },
          "metadata": {},
          "execution_count": 17
        },
        {
          "output_type": "execute_result",
          "data": {
            "text/plain": [
              "Text(0, 0.5, 'Promotion #2')"
            ]
          },
          "metadata": {},
          "execution_count": 17
        },
        {
          "output_type": "execute_result",
          "data": {
            "text/plain": [
              "Text(0, 0.5, 'Promotion #3')"
            ]
          },
          "metadata": {},
          "execution_count": 17
        },
        {
          "output_type": "execute_result",
          "data": {
            "text/plain": [
              "Text(0.5, 0, 'distribution across different weeks')"
            ]
          },
          "metadata": {},
          "execution_count": 17
        },
        {
          "output_type": "execute_result",
          "data": {
            "text/plain": [
              "Text(0.5, 0, 'distribution across different weeks')"
            ]
          },
          "metadata": {},
          "execution_count": 17
        },
        {
          "output_type": "execute_result",
          "data": {
            "text/plain": [
              "Text(0.5, 0, 'distribution across different weeks')"
            ]
          },
          "metadata": {},
          "execution_count": 17
        },
        {
          "output_type": "display_data",
          "data": {
            "text/plain": [
              "<Figure size 1728x576 with 3 Axes>"
            ],
            "image/png": "[encoded data removed]"
          },
          "metadata": {}
        }
      ],
      "source": [
        "ax1, ax2, ax3 = df.groupby(\n",
        "    ['week', 'Promotion']\n",
        ").count()[\n",
        "    'MarketID'\n",
        "].unstack('Promotion').plot.pie(\n",
        "    subplots=True,\n",
        "    figsize=(24, 8),\n",
        "    autopct='%1.0f%%'\n",
        ")\n",
        "\n",
        "ax1.set_ylabel('Promotion #1')\n",
        "ax2.set_ylabel('Promotion #2')\n",
        "ax3.set_ylabel('Promotion #3')\n",
        "\n",
        "ax1.set_xlabel('distribution across different weeks')\n",
        "ax2.set_xlabel('distribution across different weeks')\n",
        "ax3.set_xlabel('distribution across different weeks')\n",
        "\n",
        "plt.show()"
      ]
    },
    {
      "cell_type": "markdown",
      "metadata": {
        "id": "x2vknICSUPyo"
      },
      "source": [
        "# 3. Statistical Significance"
      ]
    },
    {
      "cell_type": "code",
      "execution_count": 18,
      "metadata": {
        "id": "4MpQaTRPUPyo"
      },
      "outputs": [],
      "source": [
        "import numpy as np\n",
        "from scipy import stats"
      ]
    },
    {
      "cell_type": "markdown",
      "metadata": {
        "id": "1dEhV60MUPyo"
      },
      "source": [
        "#### - t-test"
      ]
    },
    {
      "cell_type": "code",
      "execution_count": 19,
      "metadata": {
        "id": "d48lG2gNUPyo",
        "colab": {
          "base_uri": "https://localhost:8080/"
        },
        "outputId": "4c0c4434-b6e6-4129-a24e-e85b04e7fdb1"
      },
      "outputs": [
        {
          "output_type": "execute_result",
          "data": {
            "text/plain": [
              "Promotion\n",
              "1   58.10\n",
              "2   47.33\n",
              "3   55.36\n",
              "Name: SalesInThousands, dtype: float64"
            ]
          },
          "metadata": {},
          "execution_count": 19
        }
      ],
      "source": [
        "means = df.groupby('Promotion').mean()['SalesInThousands']\n",
        "means"
      ]
    },
    {
      "cell_type": "code",
      "execution_count": 20,
      "metadata": {
        "id": "zh1-PD7IUPyp",
        "colab": {
          "base_uri": "https://localhost:8080/"
        },
        "outputId": "d338483f-c7cf-46ef-bfdf-f6a9c9fee5d5"
      },
      "outputs": [
        {
          "output_type": "execute_result",
          "data": {
            "text/plain": [
              "Promotion\n",
              "1   16.55\n",
              "2   15.11\n",
              "3   16.77\n",
              "Name: SalesInThousands, dtype: float64"
            ]
          },
          "metadata": {},
          "execution_count": 20
        }
      ],
      "source": [
        "stds = df.groupby('Promotion').std()['SalesInThousands']\n",
        "stds"
      ]
    },
    {
      "cell_type": "code",
      "execution_count": 21,
      "metadata": {
        "id": "RDYFNo1eUPyp",
        "colab": {
          "base_uri": "https://localhost:8080/"
        },
        "outputId": "e2a6055c-bb03-4f4f-c826-157f75180236"
      },
      "outputs": [
        {
          "output_type": "execute_result",
          "data": {
            "text/plain": [
              "Promotion\n",
              "1    172\n",
              "2    188\n",
              "3    188\n",
              "Name: SalesInThousands, dtype: int64"
            ]
          },
          "metadata": {},
          "execution_count": 21
        }
      ],
      "source": [
        "ns = df.groupby('Promotion').count()['SalesInThousands']\n",
        "ns"
      ]
    },
    {
      "cell_type": "markdown",
      "metadata": {
        "id": "PURTH3x1UPyp"
      },
      "source": [
        "#### - Promotion 1 vs. 2"
      ]
    },
    {
      "cell_type": "markdown",
      "source": [
        "![image.png](data:image/png;base64,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)"
      ],
      "metadata": {
        "id": "0VCiIlyknjVC"
      }
    },
    {
      "cell_type": "markdown",
      "metadata": {
        "id": "IjUE7L3VUPyq"
      },
      "source": [
        "#### Promotion 1 vs 2"
      ]
    },
    {
      "cell_type": "code",
      "execution_count": 22,
      "metadata": {
        "id": "H8-WvJLBUPyq"
      },
      "outputs": [],
      "source": [
        "t, p = stats.ttest_ind(\n",
        "    df.loc[df['Promotion'] == 1, 'SalesInThousands'].values, \n",
        "    df.loc[df['Promotion'] == 2, 'SalesInThousands'].values, \n",
        "    equal_var=False\n",
        ")"
      ]
    },
    {
      "cell_type": "code",
      "execution_count": 23,
      "metadata": {
        "id": "O5avC8MBUPyq",
        "colab": {
          "base_uri": "https://localhost:8080/",
          "height": 35
        },
        "outputId": "2fc7871b-0484-4e22-a8c6-4730992c5b9a"
      },
      "outputs": [
        {
          "output_type": "execute_result",
          "data": {
            "text/plain": [
              "'6.428'"
            ],
            "application/vnd.google.colaboratory.intrinsic+json": {
              "type": "string"
            }
          },
          "metadata": {},
          "execution_count": 23
        }
      ],
      "source": [
        "f'{t:.3f}'"
      ]
    },
    {
      "cell_type": "code",
      "execution_count": 24,
      "metadata": {
        "id": "J7EgEwehUPyr",
        "colab": {
          "base_uri": "https://localhost:8080/",
          "height": 35
        },
        "outputId": "89ce8f44-8ad2-4da4-d284-25e0a0bd5378"
      },
      "outputs": [
        {
          "output_type": "execute_result",
          "data": {
            "text/plain": [
              "'0.0000000004'"
            ],
            "application/vnd.google.colaboratory.intrinsic+json": {
              "type": "string"
            }
          },
          "metadata": {},
          "execution_count": 24
        }
      ],
      "source": [
        "f'{p:.10f}'"
      ]
    },
    {
      "cell_type": "markdown",
      "metadata": {
        "id": "LMNB3GfcUPyr"
      },
      "source": [
        "#### Promotion 1 vs. 3"
      ]
    },
    {
      "cell_type": "code",
      "execution_count": 25,
      "metadata": {
        "id": "9jGC3DIIUPys"
      },
      "outputs": [],
      "source": [
        "t, p = stats.ttest_ind(\n",
        "    df.loc[df['Promotion'] == 1, 'SalesInThousands'].values, \n",
        "    df.loc[df['Promotion'] == 3, 'SalesInThousands'].values, \n",
        "    equal_var=False\n",
        ")"
      ]
    },
    {
      "cell_type": "code",
      "execution_count": 26,
      "metadata": {
        "id": "yB824MUpUPys",
        "colab": {
          "base_uri": "https://localhost:8080/",
          "height": 35
        },
        "outputId": "51631a60-2e3c-4c6c-cdb2-f555530ad7da"
      },
      "outputs": [
        {
          "output_type": "execute_result",
          "data": {
            "text/plain": [
              "'1.556'"
            ],
            "application/vnd.google.colaboratory.intrinsic+json": {
              "type": "string"
            }
          },
          "metadata": {},
          "execution_count": 26
        }
      ],
      "source": [
        "f'{t:.3f}'"
      ]
    },
    {
      "cell_type": "code",
      "execution_count": 27,
      "metadata": {
        "id": "2WXfi3KSUPys",
        "colab": {
          "base_uri": "https://localhost:8080/",
          "height": 35
        },
        "outputId": "53f9fb78-c96c-4b6d-a8a9-34212336a55d"
      },
      "outputs": [
        {
          "output_type": "execute_result",
          "data": {
            "text/plain": [
              "'0.12'"
            ],
            "application/vnd.google.colaboratory.intrinsic+json": {
              "type": "string"
            }
          },
          "metadata": {},
          "execution_count": 27
        }
      ],
      "source": [
        "f'{p:.2f}'"
      ]
    }
  ],
  "metadata": {
    "kernelspec": {
      "display_name": "Python 3",
      "language": "python",
      "name": "python3"
    },
    "language_info": {
      "codemirror_mode": {
        "name": "ipython",
        "version": 3
      },
      "file_extension": ".py",
      "mimetype": "text/x-python",
      "name": "python",
      "nbconvert_exporter": "python",
      "pygments_lexer": "ipython3",
      "version": "3.6.5"
    },
    "colab": {
      "provenance": [],
      "include_colab_link": true
    }
  },
  "nbformat": 4,
  "nbformat_minor": 0
}